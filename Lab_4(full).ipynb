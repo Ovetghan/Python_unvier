{
 "cells": [
  {
   "cell_type": "code",
   "execution_count": 1,
   "id": "826e818d",
   "metadata": {},
   "outputs": [],
   "source": [
    "import numpy as np\n",
    "from datetime import datetime\n",
    "import time"
   ]
  },
  {
   "cell_type": "code",
   "execution_count": 4,
   "id": "a5c7ba75",
   "metadata": {},
   "outputs": [],
   "source": [
    "#Вводиться число n. Розставити 1 та 0 у шаховому порядку,починаючи з 1 в матриці розміром nхn, використовуючи слайсінг.\n",
    "def task_2(): \n",
    "    n = int(input())\n",
    "    start_time = datetime.now()\n",
    "    text = \"[\"\n",
    "    for i in range(n):\n",
    "        text= text+\"[\"\n",
    "        for j in range(n):\n",
    "            if (i + j) % 2:\n",
    "                text = text + \"0\"\n",
    "            else:\n",
    "                text = text + \"1\"\n",
    "        text= text+\"]\"\n",
    "        if i != n-1:\n",
    "            text = text + \"\\n \"\n",
    "    text = text + \"]\"\n",
    "    print(text)\n",
    "    print(datetime.now() - start_time)\n",
    "    return text"
   ]
  },
  {
   "cell_type": "code",
   "execution_count": 5,
   "id": "f8ebf49b",
   "metadata": {},
   "outputs": [],
   "source": [
    "def task_2np():\n",
    "    n = int(input())\n",
    "    start_time = datetime.now()\n",
    "    Z = np.zeros((n,n), dtype=int)\n",
    "    Z[1::2,::2] = 1\n",
    "    Z[::2,1::2] = 1\n",
    "    print(datetime.now() - start_time)\n",
    "    return Z"
   ]
  },
  {
   "cell_type": "code",
   "execution_count": 7,
   "id": "5139391f",
   "metadata": {},
   "outputs": [
    {
     "name": "stdout",
     "output_type": "stream",
     "text": [
      "5\n",
      "[[10101]\n",
      " [01010]\n",
      " [10101]\n",
      " [01010]\n",
      " [10101]]\n",
      "0:00:00\n"
     ]
    },
    {
     "data": {
      "text/plain": [
       "'[[10101]\\n [01010]\\n [10101]\\n [01010]\\n [10101]]'"
      ]
     },
     "execution_count": 7,
     "metadata": {},
     "output_type": "execute_result"
    }
   ],
   "source": [
    "task_2()"
   ]
  },
  {
   "cell_type": "code",
   "execution_count": 8,
   "id": "3fa4965b",
   "metadata": {},
   "outputs": [
    {
     "name": "stdout",
     "output_type": "stream",
     "text": [
      "5\n",
      "0:00:00\n"
     ]
    },
    {
     "data": {
      "text/plain": [
       "array([[0, 1, 0, 1, 0],\n",
       "       [1, 0, 1, 0, 1],\n",
       "       [0, 1, 0, 1, 0],\n",
       "       [1, 0, 1, 0, 1],\n",
       "       [0, 1, 0, 1, 0]])"
      ]
     },
     "execution_count": 8,
     "metadata": {},
     "output_type": "execute_result"
    }
   ],
   "source": [
    "task_2np()"
   ]
  },
  {
   "cell_type": "code",
   "execution_count": 9,
   "id": "fc995868",
   "metadata": {},
   "outputs": [],
   "source": [
    "# Вводяться числа n і m. Вивести масив розміру n на m, в якому упершому рядку (рядок з нулевим індексом)\n",
    "# йдуть числа від 0 до m-1, а всі інші елементи матриці дорівнюють 0.\n",
    "def task_4(): \n",
    "    n,m=map(int,input().split())\n",
    "    count = 0 \n",
    "    text = \"[\"\n",
    "    for i in range(n):\n",
    "        text= text+\"[\"\n",
    "        for j in range(n):\n",
    "            if i==0 and count < m:\n",
    "                text = text + str(count)\n",
    "                count = count+1\n",
    "            else:\n",
    "                text = text + \"0\"\n",
    "        text= text+\"]\"\n",
    "        if i != n-1:\n",
    "            text = text + \"\\n \"\n",
    "    text = text + \"]\"\n",
    "    print(text)\n",
    "    return text"
   ]
  },
  {
   "cell_type": "code",
   "execution_count": 10,
   "id": "af7a9d4b",
   "metadata": {},
   "outputs": [],
   "source": [
    "def task_4np():\n",
    "    n,m=map(int,input().split())\n",
    "    Z = np.zeros((n,n), dtype=int)\n",
    "    P = np.arange(m)\n",
    "    if m < n:\n",
    "        Z[0, 0:m] = P[0:m] \n",
    "    if m >= n:\n",
    "        Z[0, 0:n] = P[0:n]\n",
    "    return Z"
   ]
  },
  {
   "cell_type": "code",
   "execution_count": 11,
   "id": "4577da76",
   "metadata": {},
   "outputs": [
    {
     "name": "stdout",
     "output_type": "stream",
     "text": [
      "3 4\n",
      "[[012]\n",
      " [000]\n",
      " [000]]\n"
     ]
    },
    {
     "data": {
      "text/plain": [
       "'[[012]\\n [000]\\n [000]]'"
      ]
     },
     "execution_count": 11,
     "metadata": {},
     "output_type": "execute_result"
    }
   ],
   "source": [
    "task_4()"
   ]
  },
  {
   "cell_type": "code",
   "execution_count": 12,
   "id": "7c6045cb",
   "metadata": {},
   "outputs": [
    {
     "name": "stdout",
     "output_type": "stream",
     "text": [
      "3 4\n"
     ]
    },
    {
     "data": {
      "text/plain": [
       "array([[0, 1, 2],\n",
       "       [0, 0, 0],\n",
       "       [0, 0, 0]])"
      ]
     },
     "execution_count": 12,
     "metadata": {},
     "output_type": "execute_result"
    }
   ],
   "source": [
    "task_4np()"
   ]
  },
  {
   "cell_type": "code",
   "execution_count": 13,
   "id": "5247cd25",
   "metadata": {},
   "outputs": [],
   "source": [
    "# Вводиться число n. Вивести масив розміру n на n, в якому в рядках з парними індексами стоять 1, а в інших – 0.\n",
    "def task_5(): \n",
    "    n = int(input()) \n",
    "    text = \"[\"\n",
    "    for i in range(n):\n",
    "        text= text+\"[\"\n",
    "        for j in range(n):\n",
    "            if i%2:\n",
    "                text = text + \"0\"\n",
    "            else:\n",
    "                text = text + \"1\"\n",
    "        text= text+\"]\"\n",
    "        if i != n-1:\n",
    "            text = text + \"\\n \"\n",
    "    text = text + \"]\"\n",
    "    print(text)\n",
    "    return text"
   ]
  },
  {
   "cell_type": "code",
   "execution_count": 14,
   "id": "9e5c46b4",
   "metadata": {},
   "outputs": [],
   "source": [
    "def task_5np():\n",
    "    n = int(input())\n",
    "    Z = np.ones((n,n), dtype=int)\n",
    "    Z[1::2] = 0\n",
    "    return Z"
   ]
  },
  {
   "cell_type": "code",
   "execution_count": 15,
   "id": "aff3aa6e",
   "metadata": {},
   "outputs": [
    {
     "name": "stdout",
     "output_type": "stream",
     "text": [
      "5\n",
      "[[11111]\n",
      " [00000]\n",
      " [11111]\n",
      " [00000]\n",
      " [11111]]\n"
     ]
    },
    {
     "data": {
      "text/plain": [
       "'[[11111]\\n [00000]\\n [11111]\\n [00000]\\n [11111]]'"
      ]
     },
     "execution_count": 15,
     "metadata": {},
     "output_type": "execute_result"
    }
   ],
   "source": [
    "task_5()"
   ]
  },
  {
   "cell_type": "code",
   "execution_count": 16,
   "id": "76bac8f3",
   "metadata": {},
   "outputs": [
    {
     "name": "stdout",
     "output_type": "stream",
     "text": [
      "5\n"
     ]
    },
    {
     "data": {
      "text/plain": [
       "array([[1, 1, 1, 1, 1],\n",
       "       [0, 0, 0, 0, 0],\n",
       "       [1, 1, 1, 1, 1],\n",
       "       [0, 0, 0, 0, 0],\n",
       "       [1, 1, 1, 1, 1]])"
      ]
     },
     "execution_count": 16,
     "metadata": {},
     "output_type": "execute_result"
    }
   ],
   "source": [
    "task_5np()"
   ]
  },
  {
   "cell_type": "code",
   "execution_count": 17,
   "id": "5cadcbe7",
   "metadata": {},
   "outputs": [],
   "source": [
    "# З клавіатури вводиться масив. Підрахувати в ньому кількість нульових та ненульвих елементів.\n",
    "def task_8():\n",
    "    a = list(map(int,input().split()))\n",
    "    zero=0\n",
    "    nzero=0\n",
    "    for i in range(len(a)):\n",
    "        if a[i] == 0:\n",
    "            zero=zero+1\n",
    "        else:\n",
    "            nzero=nzero+1\n",
    "    print(\"Нулів: \", zero)\n",
    "    print(\"Не нулів: \", nzero)\n",
    "    return a"
   ]
  },
  {
   "cell_type": "code",
   "execution_count": 18,
   "id": "2e0e6bec",
   "metadata": {},
   "outputs": [],
   "source": [
    "def task_8np():\n",
    "    a = list(map(int,input().split()))\n",
    "    nzero=np.count_nonzero(a)\n",
    "    zero=len(a) - nzero\n",
    "    print(\"Нулів: \", zero)\n",
    "    print(\"Не нулів: \", nzero)\n",
    "    return a"
   ]
  },
  {
   "cell_type": "code",
   "execution_count": 19,
   "id": "a8a248a0",
   "metadata": {},
   "outputs": [
    {
     "name": "stdout",
     "output_type": "stream",
     "text": [
      "3 4 0 9 8 2 4 0 8 4 0\n",
      "Нулів:  3\n",
      "Не нулів:  8\n"
     ]
    },
    {
     "data": {
      "text/plain": [
       "[3, 4, 0, 9, 8, 2, 4, 0, 8, 4, 0]"
      ]
     },
     "execution_count": 19,
     "metadata": {},
     "output_type": "execute_result"
    }
   ],
   "source": [
    "task_8()"
   ]
  },
  {
   "cell_type": "code",
   "execution_count": 20,
   "id": "12ffd752",
   "metadata": {},
   "outputs": [
    {
     "name": "stdout",
     "output_type": "stream",
     "text": [
      "3 4 0 9 8 2 4 0 8 4 0\n",
      "Нулів:  3\n",
      "Не нулів:  8\n"
     ]
    },
    {
     "data": {
      "text/plain": [
       "[3, 4, 0, 9, 8, 2, 4, 0, 8, 4, 0]"
      ]
     },
     "execution_count": 20,
     "metadata": {},
     "output_type": "execute_result"
    }
   ],
   "source": [
    "task_8np()"
   ]
  },
  {
   "cell_type": "code",
   "execution_count": 21,
   "id": "6143cd29",
   "metadata": {},
   "outputs": [],
   "source": [
    "# Вводиться число n. Створити масив значень від n до 0.\n",
    "def task_9():\n",
    "    n = int(input())\n",
    "    text=\"[\"\n",
    "    for i in range(n+1):\n",
    "        text=text+str(n-i)\n",
    "        if i!=n:\n",
    "            text=text+\" \"\n",
    "    text=text+\"]\"\n",
    "    print(text)\n",
    "    return text"
   ]
  },
  {
   "cell_type": "code",
   "execution_count": 22,
   "id": "78e9a9d6",
   "metadata": {},
   "outputs": [],
   "source": [
    "def task_9np():\n",
    "    n = int(input())\n",
    "    Z = np.arange(n+1)\n",
    "    Z = Z[::-1]\n",
    "    return Z"
   ]
  },
  {
   "cell_type": "code",
   "execution_count": 23,
   "id": "7385b300",
   "metadata": {},
   "outputs": [
    {
     "name": "stdout",
     "output_type": "stream",
     "text": [
      "5\n",
      "[5 4 3 2 1 0]\n"
     ]
    },
    {
     "data": {
      "text/plain": [
       "'[5 4 3 2 1 0]'"
      ]
     },
     "execution_count": 23,
     "metadata": {},
     "output_type": "execute_result"
    }
   ],
   "source": [
    "task_9()"
   ]
  },
  {
   "cell_type": "code",
   "execution_count": 24,
   "id": "5c6fd50b",
   "metadata": {},
   "outputs": [
    {
     "name": "stdout",
     "output_type": "stream",
     "text": [
      "5\n"
     ]
    },
    {
     "data": {
      "text/plain": [
       "array([5, 4, 3, 2, 1, 0])"
      ]
     },
     "execution_count": 24,
     "metadata": {},
     "output_type": "execute_result"
    }
   ],
   "source": [
    "task_9np()"
   ]
  },
  {
   "cell_type": "code",
   "execution_count": 25,
   "id": "3b45c30c",
   "metadata": {},
   "outputs": [],
   "source": [
    "#Створити масив одиниць розміром n х n та створити в ньому «рамку», сформовану з 0.\n",
    "def task_12(): \n",
    "    n = int(input()) \n",
    "    text = \"[\"\n",
    "    for i in range(n):\n",
    "        text= text+\"[\"\n",
    "        for j in range(n):\n",
    "            if i==0 or j==0 or i==n-1 or j==n-1:\n",
    "                text = text + \"0\"\n",
    "            else:\n",
    "                text = text + \"1\"\n",
    "        text= text+\"]\"\n",
    "        if i != n-1:\n",
    "            text = text + \"\\n \"\n",
    "    text = text + \"]\"\n",
    "    print(text)\n",
    "    return text"
   ]
  },
  {
   "cell_type": "code",
   "execution_count": 26,
   "id": "31e05a50",
   "metadata": {},
   "outputs": [],
   "source": [
    "def task_12np():\n",
    "    n = int(input())\n",
    "    Z = np.zeros((n,n), dtype=int)\n",
    "    Z[1:-1,1:-1] = 1\n",
    "    return Z"
   ]
  },
  {
   "cell_type": "code",
   "execution_count": 27,
   "id": "949f29a4",
   "metadata": {},
   "outputs": [
    {
     "name": "stdout",
     "output_type": "stream",
     "text": [
      "5\n",
      "[[00000]\n",
      " [01110]\n",
      " [01110]\n",
      " [01110]\n",
      " [00000]]\n"
     ]
    },
    {
     "data": {
      "text/plain": [
       "'[[00000]\\n [01110]\\n [01110]\\n [01110]\\n [00000]]'"
      ]
     },
     "execution_count": 27,
     "metadata": {},
     "output_type": "execute_result"
    }
   ],
   "source": [
    "task_12()"
   ]
  },
  {
   "cell_type": "code",
   "execution_count": 28,
   "id": "04e27f64",
   "metadata": {},
   "outputs": [
    {
     "name": "stdout",
     "output_type": "stream",
     "text": [
      "5\n"
     ]
    },
    {
     "data": {
      "text/plain": [
       "array([[0, 0, 0, 0, 0],\n",
       "       [0, 1, 1, 1, 0],\n",
       "       [0, 1, 1, 1, 0],\n",
       "       [0, 1, 1, 1, 0],\n",
       "       [0, 0, 0, 0, 0]])"
      ]
     },
     "execution_count": 28,
     "metadata": {},
     "output_type": "execute_result"
    }
   ],
   "source": [
    "task_12np()"
   ]
  },
  {
   "cell_type": "code",
   "execution_count": 29,
   "id": "41dcddf5",
   "metadata": {},
   "outputs": [],
   "source": [
    "# Розмістити на полі 8х8 нулі та одиниці в шахматному порядку, використовуючи функцію numpy tile().\n",
    "def task_14():\n",
    "    n = int(input())\n",
    "    Z = np.tile(np.array([[0,1],[1,0]]), (n,n))\n",
    "    print(Z)"
   ]
  },
  {
   "cell_type": "code",
   "execution_count": 30,
   "id": "5ad8b672",
   "metadata": {},
   "outputs": [
    {
     "name": "stdout",
     "output_type": "stream",
     "text": [
      "8\n",
      "[[0 1 0 1 0 1 0 1 0 1 0 1 0 1 0 1]\n",
      " [1 0 1 0 1 0 1 0 1 0 1 0 1 0 1 0]\n",
      " [0 1 0 1 0 1 0 1 0 1 0 1 0 1 0 1]\n",
      " [1 0 1 0 1 0 1 0 1 0 1 0 1 0 1 0]\n",
      " [0 1 0 1 0 1 0 1 0 1 0 1 0 1 0 1]\n",
      " [1 0 1 0 1 0 1 0 1 0 1 0 1 0 1 0]\n",
      " [0 1 0 1 0 1 0 1 0 1 0 1 0 1 0 1]\n",
      " [1 0 1 0 1 0 1 0 1 0 1 0 1 0 1 0]\n",
      " [0 1 0 1 0 1 0 1 0 1 0 1 0 1 0 1]\n",
      " [1 0 1 0 1 0 1 0 1 0 1 0 1 0 1 0]\n",
      " [0 1 0 1 0 1 0 1 0 1 0 1 0 1 0 1]\n",
      " [1 0 1 0 1 0 1 0 1 0 1 0 1 0 1 0]\n",
      " [0 1 0 1 0 1 0 1 0 1 0 1 0 1 0 1]\n",
      " [1 0 1 0 1 0 1 0 1 0 1 0 1 0 1 0]\n",
      " [0 1 0 1 0 1 0 1 0 1 0 1 0 1 0 1]\n",
      " [1 0 1 0 1 0 1 0 1 0 1 0 1 0 1 0]]\n"
     ]
    }
   ],
   "source": [
    "task_14()"
   ]
  },
  {
   "cell_type": "code",
   "execution_count": 31,
   "id": "8d908993",
   "metadata": {},
   "outputs": [],
   "source": [
    "# Заповнити парні стовбчики матриці розміром n х n одиницями, а непарні – нулями.\n",
    "def task_15(): \n",
    "    n = int(input())  \n",
    "    text = \"[\"\n",
    "    for i in range(n):\n",
    "        text= text+\"[\"\n",
    "        for j in range(n):\n",
    "            if j%2:\n",
    "                text = text + \"1\"\n",
    "            else:\n",
    "                text = text + \"0\"\n",
    "        text= text+\"]\"\n",
    "        if i != n-1:\n",
    "            text = text + \"\\n \"\n",
    "    text = text + \"]\"\n",
    "    print(text)\n",
    "    return text"
   ]
  },
  {
   "cell_type": "code",
   "execution_count": 32,
   "id": "e033b649",
   "metadata": {},
   "outputs": [],
   "source": [
    "def task_15np():\n",
    "    n = int(input())\n",
    "    Z = np.ones((n,n), dtype=int)\n",
    "    Z[::1,::2] = 0\n",
    "    return Z"
   ]
  },
  {
   "cell_type": "code",
   "execution_count": 33,
   "id": "79b50af3",
   "metadata": {},
   "outputs": [
    {
     "name": "stdout",
     "output_type": "stream",
     "text": [
      "5\n",
      "[[01010]\n",
      " [01010]\n",
      " [01010]\n",
      " [01010]\n",
      " [01010]]\n"
     ]
    },
    {
     "data": {
      "text/plain": [
       "'[[01010]\\n [01010]\\n [01010]\\n [01010]\\n [01010]]'"
      ]
     },
     "execution_count": 33,
     "metadata": {},
     "output_type": "execute_result"
    }
   ],
   "source": [
    "task_15()"
   ]
  },
  {
   "cell_type": "code",
   "execution_count": 34,
   "id": "b93c6382",
   "metadata": {},
   "outputs": [
    {
     "name": "stdout",
     "output_type": "stream",
     "text": [
      "5\n"
     ]
    },
    {
     "data": {
      "text/plain": [
       "array([[0, 1, 0, 1, 0],\n",
       "       [0, 1, 0, 1, 0],\n",
       "       [0, 1, 0, 1, 0],\n",
       "       [0, 1, 0, 1, 0],\n",
       "       [0, 1, 0, 1, 0]])"
      ]
     },
     "execution_count": 34,
     "metadata": {},
     "output_type": "execute_result"
    }
   ],
   "source": [
    "task_15np()"
   ]
  },
  {
   "cell_type": "code",
   "execution_count": 35,
   "id": "d3b7e09a",
   "metadata": {},
   "outputs": [],
   "source": [
    "# Згенерувати вектор із n елементів, що рівномірно розміщені на інтервалі (0,1) – тобто обидва кінці інтервалу не включені.\n",
    "# Значення вивести до 3 знаків після коми.\n",
    "def task_19():\n",
    "    n = int(input())\n",
    "    a=1/(n+1)\n",
    "    count=a\n",
    "    text=\"[\"\n",
    "    for i in range(n):\n",
    "        text=text+str('%.3f' % count)\n",
    "        count = count+a\n",
    "        if i!=n:\n",
    "            text=text+\" \"\n",
    "    text=text+\"]\"\n",
    "    print(text)\n",
    "    return text"
   ]
  },
  {
   "cell_type": "code",
   "execution_count": 36,
   "id": "98340737",
   "metadata": {},
   "outputs": [],
   "source": [
    "def task_19np():\n",
    "    n = int(input())\n",
    "    Z = np.linspace(0,1,n+2)[1:-1]\n",
    "    print(Z)"
   ]
  },
  {
   "cell_type": "code",
   "execution_count": 37,
   "id": "f4a3e730",
   "metadata": {},
   "outputs": [
    {
     "name": "stdout",
     "output_type": "stream",
     "text": [
      "10\n",
      "[0.091 0.182 0.273 0.364 0.455 0.545 0.636 0.727 0.818 0.909 ]\n"
     ]
    },
    {
     "data": {
      "text/plain": [
       "'[0.091 0.182 0.273 0.364 0.455 0.545 0.636 0.727 0.818 0.909 ]'"
      ]
     },
     "execution_count": 37,
     "metadata": {},
     "output_type": "execute_result"
    }
   ],
   "source": [
    "task_19()"
   ]
  },
  {
   "cell_type": "code",
   "execution_count": 38,
   "id": "0d4b2cb5",
   "metadata": {},
   "outputs": [
    {
     "name": "stdout",
     "output_type": "stream",
     "text": [
      "10\n",
      "[0.09090909 0.18181818 0.27272727 0.36363636 0.45454545 0.54545455\n",
      " 0.63636364 0.72727273 0.81818182 0.90909091]\n"
     ]
    }
   ],
   "source": [
    "task_19np()"
   ]
  },
  {
   "cell_type": "code",
   "execution_count": 47,
   "id": "d7e4c4e5",
   "metadata": {},
   "outputs": [
    {
     "name": "stdout",
     "output_type": "stream",
     "text": [
      "[[138, 88, 68], [-154, -100, -78], [-14, -16, -12]]\n",
      "0:00:00\n"
     ]
    }
   ],
   "source": [
    "def sum_matr(a,b):\n",
    "    c=[[0 for i in range(3)] for i in range(3)]\n",
    "    for i in range(3):\n",
    "        for j in range(3):\n",
    "            c[i][j] = a[i][j]+b[i][j]\n",
    "    return(c)\n",
    "    \n",
    "def dist_matr(a,b):\n",
    "    c=[[0 for i in range(3)] for i in range(3)]\n",
    "    for i in range(3):\n",
    "        for j in range(3):\n",
    "            c[i][j] = a[i][j]-b[i][j]\n",
    "    return(c)\n",
    "    \n",
    "def mult_matr(a,b):\n",
    "    c=[[0 for i in range(3)] for i in range(3)]\n",
    "    for i in range(3):\n",
    "        for j in range(3):\n",
    "            c[i][j] = sum(a[i][kk] * b[kk][j] for kk in range(3))\n",
    "    return(c)\n",
    "\n",
    "def sq_matr(a):\n",
    "    c=[[0 for i in range(3)] for i in range(3)]\n",
    "    for i in range(3):\n",
    "        for j in range(3):\n",
    "            c[i][j] = sum(a[i][kk] * a[kk][j] for kk in range(3))\n",
    "    return(c)\n",
    "\n",
    "a=[[7,2,0],[-7,-2,1],[1,1,0]]\n",
    "b=[[0,2,3],[1,0,-2],[3,1,1]]\n",
    "\n",
    "start_time = datetime.now()\n",
    "C1=sum_matr(a,b)\n",
    "A2=sq_matr(a)\n",
    "B2=sq_matr(b)\n",
    "C2=dist_matr(A2,B2)\n",
    "R1=mult_matr(C2,C1)\n",
    "\n",
    "print(R1)\n",
    "print(datetime.now() - start_time)"
   ]
  },
  {
   "cell_type": "code",
   "execution_count": 48,
   "id": "e4ea4cde",
   "metadata": {},
   "outputs": [
    {
     "name": "stdout",
     "output_type": "stream",
     "text": [
      "[[ 138   88   68]\n",
      " [-154 -100  -78]\n",
      " [ -14  -16  -12]]\n",
      "0:00:00\n"
     ]
    }
   ],
   "source": [
    "a=[[7,2,0],[-7,-2,1],[1,1,0]]\n",
    "b=[[0,2,3],[1,0,-2],[3,1,1]]\n",
    "\n",
    "start_time = datetime.now()\n",
    "C = np.add(a,b)\n",
    "A2 = np.dot(a,a)\n",
    "B2 = np.dot(b,b)\n",
    "D = np.subtract(A2,B2)\n",
    "R2 = np.dot(D,C)\n",
    "\n",
    "print(R2)\n",
    "print(datetime.now() - start_time)"
   ]
  },
  {
   "cell_type": "code",
   "execution_count": 46,
   "id": "0b847727",
   "metadata": {},
   "outputs": [
    {
     "data": {
      "text/plain": [
       "True"
      ]
     },
     "execution_count": 46,
     "metadata": {},
     "output_type": "execute_result"
    }
   ],
   "source": [
    "np.allclose(R1,R2)"
   ]
  },
  {
   "cell_type": "code",
   "execution_count": 49,
   "id": "882d23ba",
   "metadata": {},
   "outputs": [],
   "source": [
    "def getMatrixMinor(m,i,j):\n",
    "    return [row[:j] + row[j+1:] for row in (m[:i]+m[i+1:])]\n",
    "\n",
    "def getMatrixDeternminant(m):\n",
    "    if len(m) == 2:\n",
    "        return m[0][0]*m[1][1]-m[0][1]*m[1][0]\n",
    "\n",
    "    determinant = 0\n",
    "    for c in range(len(m)):\n",
    "        determinant += ((-1)**c)*m[0][c]*getMatrixDeternminant(getMatrixMinor(m,0,c))\n",
    "    return determinant"
   ]
  },
  {
   "cell_type": "code",
   "execution_count": 51,
   "id": "400e30cd",
   "metadata": {},
   "outputs": [
    {
     "name": "stdout",
     "output_type": "stream",
     "text": [
      "36\n"
     ]
    }
   ],
   "source": [
    "M =[[1,-3,4,-5],[1,-2,3,-4],[3,2,-5,12],[4,3,-5,5]]\n",
    "print(getMatrixDeternminant(M))"
   ]
  },
  {
   "cell_type": "code",
   "execution_count": 53,
   "id": "441b0bb7",
   "metadata": {},
   "outputs": [
    {
     "name": "stdout",
     "output_type": "stream",
     "text": [
      "[ 1.  2.  1. -1.]\n"
     ]
    }
   ],
   "source": [
    "M1 =np.array([[0,1,-3,4],[1,0,-2,3],[3,2,0,-5],[4,3,-5,0]])\n",
    "M2=np.array([-5,-4,12,5])\n",
    "R = np.linalg.solve(M1,M2)\n",
    "print(R)"
   ]
  },
  {
   "cell_type": "code",
   "execution_count": null,
   "id": "b5edf505",
   "metadata": {},
   "outputs": [],
   "source": []
  }
 ],
 "metadata": {
  "kernelspec": {
   "display_name": "Python 3 (ipykernel)",
   "language": "python",
   "name": "python3"
  },
  "language_info": {
   "codemirror_mode": {
    "name": "ipython",
    "version": 3
   },
   "file_extension": ".py",
   "mimetype": "text/x-python",
   "name": "python",
   "nbconvert_exporter": "python",
   "pygments_lexer": "ipython3",
   "version": "3.9.13"
  }
 },
 "nbformat": 4,
 "nbformat_minor": 5
}
