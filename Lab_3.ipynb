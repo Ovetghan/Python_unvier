{
 "cells": [
  {
   "cell_type": "markdown",
   "id": "2723bdd9",
   "metadata": {},
   "source": [
    "<body>\n",
    "    <h1 style=\"color:green\">Джибуті</h1>\n",
    "    <img src=\"https://upload.wikimedia.org/wikipedia/commons/thumb/8/83/Djibouti_city_corner_building.jpg/300px-Djibouti_city_corner_building.jpg\" alt=\"Djibouti\" \n",
    "    style=\"float:left; margin: right 10px;\"  />\n",
    "    <h2 style=\"color:blue\">Інфо</h2>\n",
    "    <p><b>Респу́бліка Джибу́ті</b> — держава на півночі Африканського Рогу. \n",
    "        Межує із Еритреєю на півночі, з Ефіопією — на заході й півдні, \n",
    "        з Сомалі — на південному-сході. Решта кордону проходить по Червоному морю і Аденській затоці.\n",
    "        По іншу сторону Червоного моря, на Аравійському півострові, за 20 км від узбережжя Джибуті, розташована республіка Ємен. \n",
    "        Джибуті — розміром близько 23 200 квадратних кілометрів.\n",
    "        Столицею країни й головним портом є місто Джибуті. Країна входить до числа країн, що розвиваються.</p> \n",
    "    <p>Населення 712 тис. (2004) (ісса 47 %, афари 37 %, європейці 8 %, араби 6 %); мови: французька (державна), сомалі, арабська, афарська. \n",
    "        Релігія — іслам і християнство. Національне свято — 27 червня — День незалежності (1977). Грошова одиниця — джибутійський франк. \n",
    "        Джибуті економічно слабкорозвинена держава, приблизно п'ята частина населення країни живе нижче межі бідності \n",
    "        (дохід на душу населення складає 1.25$).\n",
    "        Останні роки при підтримці європейських та аравійських країн відчутний позитивний поступ в економіці та\n",
    "        суспільстві республіки Джибуті.</p>\n",
    "    <h2 style=\"color:blue\">Видатні люди</h2>\n",
    "    <h3 style=\"color:brown\">Хусейн Ахмед Салах</h3>\n",
    "    <p>Легкоатлет бігун на довгі дистанції. Отримав нагороди:</p>\n",
    "    <ul>\n",
    "        <li>Золота медаль, Олімпіаді 1988 р.</li>\n",
    "        <li>Срібла медаль, Чемпіонат світу 1987 р.</li>\n",
    "        <li>Срібла медаль, Чемпіонат світу 1991 р.</li>\n",
    "    </ul>\n",
    "    <h3 style=\"color:brown\">Аянлех Сулейман</h3>\n",
    "    <p>Легкоатлет бігун на середні дистанції. Встановив рекорди:</p>\n",
    "    <ul>\n",
    "        <li>Рекорд Джибуті на дистанції 1500 м.</li>\n",
    "        <li>Рекорд Джибуті на дистанції 3000 м.</li>\n",
    "        <li>Рекорд на дистанції 1500 м на чемпіонаті у Стокгольмі у 2016 р.</li>\n",
    "    </ul>\n",
    "    <table>\n",
    "        <tr><td>Алі Сабі</td><td><img src=\"https://upload.wikimedia.org/wikipedia/commons/thumb/c/c6/Arrei_Mountains_see_from_Ali_Sabieh.JPG/220px-Arrei_Mountains_see_from_Ali_Sabieh.JPG\"></td></tr>\n",
    "        <tr><td>Озеро Ассаль</td><td><img src=\"https://upload.wikimedia.org/wikipedia/commons/thumb/5/52/Lac_assal_%28cropped%29.JPG/250px-Lac_assal_%28cropped%29.JPG\"></td></tr>\n",
    "    </table>\n",
    "    <p>Джерела <a href=\"https://uk.wikipedia.org/wiki/Джибуті#Культура\">тут</a></p>\n",
    "    <svg width=\"400\" height=\"300\">,\n",
    "        <rect width=\"400\" height=\"150\" style=\"fill:rgb(135, 206, 235)\" />\n",
    "        <rect y=\"150\" width=\"400\" height=\"150\" style=\"fill:rgb(0, 128, 0)\" />\n",
    "        <polygon points=\"0,0 200,150 0,300\" style=\"fill:white;stroke:black;stroke-width:1\" />\n",
    "        <polygon points=\"100,110 70,190 150,145 50,145 130,190\" style=\"fill:red\"/>\n",
    "    </svg>\n",
    "</body>"
   ]
  },
  {
   "cell_type": "code",
   "execution_count": 4,
   "id": "6d48aae9",
   "metadata": {},
   "outputs": [],
   "source": [
    "def BubbleSort(a): \n",
    "    count = 0 \n",
    "    for i in range(len(a),0,-1):\n",
    "        flag = True\n",
    "        for j in range(1, i):\n",
    "            if a[j-1] > a[j]:\n",
    "                c = a[j-1]\n",
    "                a[j-1] = a[j]\n",
    "                a[j] = c\n",
    "                count += 1\n",
    "                flag = False\n",
    "        if flag:\n",
    "            break\n",
    "    print ('Произведено перестановок: ', count)\n",
    "    return a"
   ]
  },
  {
   "cell_type": "code",
   "execution_count": 7,
   "id": "1ab614d8",
   "metadata": {},
   "outputs": [
    {
     "name": "stdout",
     "output_type": "stream",
     "text": [
      "Произведено перестановок:  6\n"
     ]
    },
    {
     "data": {
      "text/plain": [
       "[5, 5, 6, 8, 12, 23]"
      ]
     },
     "execution_count": 7,
     "metadata": {},
     "output_type": "execute_result"
    }
   ],
   "source": [
    "a=[5, 6, 23, 8, 12, 5]\n",
    "BubbleSort(a)"
   ]
  },
  {
   "cell_type": "code",
   "execution_count": null,
   "id": "b62d4e29",
   "metadata": {},
   "outputs": [],
   "source": []
  }
 ],
 "metadata": {
  "kernelspec": {
   "display_name": "Python 3 (ipykernel)",
   "language": "python",
   "name": "python3"
  },
  "language_info": {
   "codemirror_mode": {
    "name": "ipython",
    "version": 3
   },
   "file_extension": ".py",
   "mimetype": "text/x-python",
   "name": "python",
   "nbconvert_exporter": "python",
   "pygments_lexer": "ipython3",
   "version": "3.9.13"
  }
 },
 "nbformat": 4,
 "nbformat_minor": 5
}
