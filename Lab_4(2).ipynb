{
 "cells": [
  {
   "cell_type": "code",
   "execution_count": 1,
   "id": "a787be3f",
   "metadata": {},
   "outputs": [],
   "source": [
    "def task_2(): \n",
    "    n = int(input()) \n",
    "    text = \"[\"\n",
    "    for i in range(n):\n",
    "        text= text+\"[\"\n",
    "        for j in range(n):\n",
    "            if (i + j) % 2:\n",
    "                text = text + \"0\"\n",
    "            else:\n",
    "                text = text + \"1\"\n",
    "        text= text+\"]\"\n",
    "        if i != n-1:\n",
    "            text = text + \"\\n \"\n",
    "    text = text + \"]\"\n",
    "    print(text)\n",
    "    return text"
   ]
  },
  {
   "cell_type": "code",
   "execution_count": 2,
   "id": "06a5d7fb",
   "metadata": {},
   "outputs": [
    {
     "name": "stdout",
     "output_type": "stream",
     "text": [
      "5\n",
      "[[10101]\n",
      " [01010]\n",
      " [10101]\n",
      " [01010]\n",
      " [10101]]\n"
     ]
    },
    {
     "data": {
      "text/plain": [
       "'[[10101]\\n [01010]\\n [10101]\\n [01010]\\n [10101]]'"
      ]
     },
     "execution_count": 2,
     "metadata": {},
     "output_type": "execute_result"
    }
   ],
   "source": [
    "task_2()"
   ]
  },
  {
   "cell_type": "code",
   "execution_count": 3,
   "id": "f935808e",
   "metadata": {},
   "outputs": [],
   "source": [
    "def task_4(): \n",
    "    n,m=map(int,input().split())\n",
    "    count = 0 \n",
    "    text = \"[\"\n",
    "    for i in range(n):\n",
    "        text= text+\"[\"\n",
    "        for j in range(n):\n",
    "            if i==0 and count < m:\n",
    "                text = text + str(count)\n",
    "                count = count+1\n",
    "            else:\n",
    "                text = text + \"0\"\n",
    "        text= text+\"]\"\n",
    "        if i != n-1:\n",
    "            text = text + \"\\n \"\n",
    "    text = text + \"]\"\n",
    "    print(text)\n",
    "    return text"
   ]
  },
  {
   "cell_type": "code",
   "execution_count": 4,
   "id": "930f7e11",
   "metadata": {},
   "outputs": [
    {
     "name": "stdout",
     "output_type": "stream",
     "text": [
      "3 4\n",
      "[[012]\n",
      " [000]\n",
      " [000]]\n"
     ]
    },
    {
     "data": {
      "text/plain": [
       "'[[012]\\n [000]\\n [000]]'"
      ]
     },
     "execution_count": 4,
     "metadata": {},
     "output_type": "execute_result"
    }
   ],
   "source": [
    "task_4()"
   ]
  },
  {
   "cell_type": "code",
   "execution_count": 5,
   "id": "7daa819c",
   "metadata": {},
   "outputs": [],
   "source": [
    "def task_5(): \n",
    "    n = int(input()) \n",
    "    text = \"[\"\n",
    "    for i in range(n):\n",
    "        text= text+\"[\"\n",
    "        for j in range(n):\n",
    "            if i%2:\n",
    "                text = text + \"0\"\n",
    "            else:\n",
    "                text = text + \"1\"\n",
    "        text= text+\"]\"\n",
    "        if i != n-1:\n",
    "            text = text + \"\\n \"\n",
    "    text = text + \"]\"\n",
    "    print(text)\n",
    "    return text"
   ]
  },
  {
   "cell_type": "code",
   "execution_count": 6,
   "id": "d319d1c8",
   "metadata": {},
   "outputs": [
    {
     "name": "stdout",
     "output_type": "stream",
     "text": [
      "5\n",
      "[[11111]\n",
      " [00000]\n",
      " [11111]\n",
      " [00000]\n",
      " [11111]]\n"
     ]
    },
    {
     "data": {
      "text/plain": [
       "'[[11111]\\n [00000]\\n [11111]\\n [00000]\\n [11111]]'"
      ]
     },
     "execution_count": 6,
     "metadata": {},
     "output_type": "execute_result"
    }
   ],
   "source": [
    "task_5()"
   ]
  },
  {
   "cell_type": "code",
   "execution_count": 7,
   "id": "2d276c70",
   "metadata": {},
   "outputs": [],
   "source": [
    "def task_8():\n",
    "    a = list(map(int,input().split()))\n",
    "    zero=0\n",
    "    nzero=0\n",
    "    for i in range(len(a)):\n",
    "        if a[i] == 0:\n",
    "            zero=zero+1\n",
    "        else:\n",
    "            nzero=nzero+1\n",
    "    print(\"Нулів: \", zero)\n",
    "    print(\"Не нулів: \", nzero)\n",
    "    return a"
   ]
  },
  {
   "cell_type": "code",
   "execution_count": 8,
   "id": "2b6b017b",
   "metadata": {},
   "outputs": [
    {
     "name": "stdout",
     "output_type": "stream",
     "text": [
      "3 4 0 9 8 2 4 0 8 4 0\n",
      "Нулів:  3\n",
      "Не нулів:  8\n"
     ]
    },
    {
     "data": {
      "text/plain": [
       "[3, 4, 0, 9, 8, 2, 4, 0, 8, 4, 0]"
      ]
     },
     "execution_count": 8,
     "metadata": {},
     "output_type": "execute_result"
    }
   ],
   "source": [
    "task_8()"
   ]
  },
  {
   "cell_type": "code",
   "execution_count": 9,
   "id": "3602f94f",
   "metadata": {},
   "outputs": [],
   "source": [
    "def task_9():\n",
    "    n = int(input())\n",
    "    text=\"[\"\n",
    "    for i in range(n+1):\n",
    "        text=text+str(n-i)\n",
    "        if i!=n:\n",
    "            text=text+\" \"\n",
    "    text=text+\"]\"\n",
    "    print(text)\n",
    "    return text"
   ]
  },
  {
   "cell_type": "code",
   "execution_count": 10,
   "id": "aa7abcdf",
   "metadata": {},
   "outputs": [
    {
     "name": "stdout",
     "output_type": "stream",
     "text": [
      "10\n",
      "[10 9 8 7 6 5 4 3 2 1 0]\n"
     ]
    },
    {
     "data": {
      "text/plain": [
       "'[10 9 8 7 6 5 4 3 2 1 0]'"
      ]
     },
     "execution_count": 10,
     "metadata": {},
     "output_type": "execute_result"
    }
   ],
   "source": [
    "task_9()"
   ]
  },
  {
   "cell_type": "code",
   "execution_count": 11,
   "id": "03810151",
   "metadata": {},
   "outputs": [],
   "source": [
    "def task_12(): \n",
    "    n = int(input()) \n",
    "    text = \"[\"\n",
    "    for i in range(n):\n",
    "        text= text+\"[\"\n",
    "        for j in range(n):\n",
    "            if i==0 or j==0 or i==n-1 or j==n-1:\n",
    "                text = text + \"0\"\n",
    "            else:\n",
    "                text = text + \"1\"\n",
    "        text= text+\"]\"\n",
    "        if i != n-1:\n",
    "            text = text + \"\\n \"\n",
    "    text = text + \"]\"\n",
    "    print(text)\n",
    "    return text"
   ]
  },
  {
   "cell_type": "code",
   "execution_count": 12,
   "id": "f7a27f20",
   "metadata": {},
   "outputs": [
    {
     "name": "stdout",
     "output_type": "stream",
     "text": [
      "4\n",
      "[[0000]\n",
      " [0110]\n",
      " [0110]\n",
      " [0000]]\n"
     ]
    },
    {
     "data": {
      "text/plain": [
       "'[[0000]\\n [0110]\\n [0110]\\n [0000]]'"
      ]
     },
     "execution_count": 12,
     "metadata": {},
     "output_type": "execute_result"
    }
   ],
   "source": [
    "task_12()"
   ]
  },
  {
   "cell_type": "code",
   "execution_count": 13,
   "id": "1b436812",
   "metadata": {},
   "outputs": [],
   "source": [
    "def task_15(): \n",
    "    n = int(input())  \n",
    "    text = \"[\"\n",
    "    for i in range(n):\n",
    "        text= text+\"[\"\n",
    "        for j in range(n):\n",
    "            if j%2:\n",
    "                text = text + \"1\"\n",
    "            else:\n",
    "                text = text + \"0\"\n",
    "        text= text+\"]\"\n",
    "        if i != n-1:\n",
    "            text = text + \"\\n \"\n",
    "    text = text + \"]\"\n",
    "    print(text)\n",
    "    return text"
   ]
  },
  {
   "cell_type": "code",
   "execution_count": 14,
   "id": "19da2192",
   "metadata": {},
   "outputs": [
    {
     "name": "stdout",
     "output_type": "stream",
     "text": [
      "5\n",
      "[[01010]\n",
      " [01010]\n",
      " [01010]\n",
      " [01010]\n",
      " [01010]]\n"
     ]
    },
    {
     "data": {
      "text/plain": [
       "'[[01010]\\n [01010]\\n [01010]\\n [01010]\\n [01010]]'"
      ]
     },
     "execution_count": 14,
     "metadata": {},
     "output_type": "execute_result"
    }
   ],
   "source": [
    "task_15()"
   ]
  },
  {
   "cell_type": "code",
   "execution_count": 15,
   "id": "7bdfc5ac",
   "metadata": {},
   "outputs": [],
   "source": [
    "def task_19():\n",
    "    n = int(input())\n",
    "    a=1/(n+1)\n",
    "    count=a\n",
    "    text=\"[\"\n",
    "    for i in range(n):\n",
    "        text=text+str('%.3f' % count)\n",
    "        count = count+a\n",
    "        if i!=n:\n",
    "            text=text+\" \"\n",
    "    text=text+\"]\"\n",
    "    print(text)\n",
    "    return text"
   ]
  },
  {
   "cell_type": "code",
   "execution_count": 16,
   "id": "2fef727d",
   "metadata": {},
   "outputs": [
    {
     "name": "stdout",
     "output_type": "stream",
     "text": [
      "10\n",
      "[0.091 0.182 0.273 0.364 0.455 0.545 0.636 0.727 0.818 0.909 ]\n"
     ]
    },
    {
     "data": {
      "text/plain": [
       "'[0.091 0.182 0.273 0.364 0.455 0.545 0.636 0.727 0.818 0.909 ]'"
      ]
     },
     "execution_count": 16,
     "metadata": {},
     "output_type": "execute_result"
    }
   ],
   "source": [
    "task_19()"
   ]
  },
  {
   "cell_type": "code",
   "execution_count": 17,
   "id": "df62d68b",
   "metadata": {},
   "outputs": [
    {
     "name": "stdout",
     "output_type": "stream",
     "text": [
      "[[44, -8, -12], [-84, -17, -5], [36, 3, -1]]\n"
     ]
    }
   ],
   "source": [
    "def sum_matr(a,b):\n",
    "    c=[[0 for i in range(3)] for i in range(3)]\n",
    "    for i in range(3):\n",
    "        for j in range(3):\n",
    "            c[i][j] = a[i][j]+b[i][j]\n",
    "    return(c)\n",
    "    \n",
    "def dist_matr(a,b):\n",
    "    c=[[0 for i in range(3)] for i in range(3)]\n",
    "    for i in range(3):\n",
    "        for j in range(3):\n",
    "            c[i][j] = a[i][j]-b[i][j]\n",
    "    return(c)\n",
    "    \n",
    "def mult_matr(a,b):\n",
    "    c=[[0 for i in range(3)] for i in range(3)]\n",
    "    for i in range(3):\n",
    "        for j in range(3):\n",
    "            c[i][j] = sum(a[i][kk] * b[kk][j] for kk in range(3))\n",
    "    return(c)\n",
    "\n",
    "def sq_matr(a):\n",
    "    c=[[0 for i in range(3)] for i in range(3)]\n",
    "    for i in range(3):\n",
    "        for j in range(3):\n",
    "            c[i][j] = sum(a[i][kk] * a[kk][j] for kk in range(3))\n",
    "    return(c)\n",
    "\n",
    "a=[[7,2,0],[-7,-2,1],[1,1,0]]\n",
    "b=[[0,2,3],[1,0,-2],[3,1,1]]\n",
    "\n",
    "C1=sum_matr(a,b)\n",
    "A2=sq_matr(a)\n",
    "B2=sq_matr(b)\n",
    "C2=dist_matr(A2,B2)\n",
    "R=mult_matr(C1,C2)\n",
    "print(R)"
   ]
  },
  {
   "cell_type": "code",
   "execution_count": 18,
   "id": "e341eb70",
   "metadata": {},
   "outputs": [],
   "source": [
    "def task_14(): \n",
    "     \n",
    "    text = \"[\"\n",
    "    for i in range(8):\n",
    "        text= text+\"[\"\n",
    "        for j in range(8):\n",
    "            if (i + j) % 2:\n",
    "                text = text + \"0\"\n",
    "            else:\n",
    "                text = text + \"1\"\n",
    "        text= text+\"]\"\n",
    "        if i != 8-1:\n",
    "            text = text + \"\\n \"\n",
    "    text = text + \"]\"\n",
    "    print(text)\n",
    "    return text"
   ]
  },
  {
   "cell_type": "code",
   "execution_count": 19,
   "id": "c5a62919",
   "metadata": {},
   "outputs": [
    {
     "name": "stdout",
     "output_type": "stream",
     "text": [
      "[[10101010]\n",
      " [01010101]\n",
      " [10101010]\n",
      " [01010101]\n",
      " [10101010]\n",
      " [01010101]\n",
      " [10101010]\n",
      " [01010101]]\n"
     ]
    },
    {
     "data": {
      "text/plain": [
       "'[[10101010]\\n [01010101]\\n [10101010]\\n [01010101]\\n [10101010]\\n [01010101]\\n [10101010]\\n [01010101]]'"
      ]
     },
     "execution_count": 19,
     "metadata": {},
     "output_type": "execute_result"
    }
   ],
   "source": [
    "task_14()"
   ]
  },
  {
   "cell_type": "code",
   "execution_count": null,
   "id": "1e2cb42d",
   "metadata": {},
   "outputs": [],
   "source": []
  }
 ],
 "metadata": {
  "kernelspec": {
   "display_name": "Python 3 (ipykernel)",
   "language": "python",
   "name": "python3"
  },
  "language_info": {
   "codemirror_mode": {
    "name": "ipython",
    "version": 3
   },
   "file_extension": ".py",
   "mimetype": "text/x-python",
   "name": "python",
   "nbconvert_exporter": "python",
   "pygments_lexer": "ipython3",
   "version": "3.9.13"
  }
 },
 "nbformat": 4,
 "nbformat_minor": 5
}
